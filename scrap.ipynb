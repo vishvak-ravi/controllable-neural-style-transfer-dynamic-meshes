{
 "cells": [
  {
   "cell_type": "code",
   "execution_count": 6,
   "id": "6c84bc00",
   "metadata": {},
   "outputs": [
    {
     "data": {
      "application/vnd.plotly.v1+json": {
       "config": {
        "plotlyServerURL": "https://plot.ly"
       },
       "data": [
        {
         "marker": {
          "color": {
           "bdata": "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",
           "dtype": "f4"
          },
          "colorscale": [
           [
            0,
            "#440154"
           ],
           [
            0.1111111111111111,
            "#482878"
           ],
           [
            0.2222222222222222,
            "#3e4989"
           ],
           [
            0.3333333333333333,
            "#31688e"
           ],
           [
            0.4444444444444444,
            "#26828e"
           ],
           [
            0.5555555555555556,
            "#1f9e89"
           ],
           [
            0.6666666666666666,
            "#35b779"
           ],
           [
            0.7777777777777778,
            "#6ece58"
           ],
           [
            0.8888888888888888,
            "#b5de2b"
           ],
           [
            1,
            "#fde725"
           ]
          ],
          "opacity": 0.8,
          "size": 5
         },
         "mode": "markers",
         "type": "scatter3d",
         "x": {
          "bdata": "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",
          "dtype": "f4"
         },
         "y": {
          "bdata": "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",
          "dtype": "f4"
         },
         "z": {
          "bdata": "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",
          "dtype": "f4"
         }
        }
       ],
       "layout": {
        "scene": {
         "xaxis": {
          "title": {
           "text": "X"
          }
         },
         "yaxis": {
          "title": {
           "text": "Y"
          }
         },
         "zaxis": {
          "title": {
           "text": "Z"
          }
         }
        },
        "template": {
         "data": {
          "bar": [
           {
            "error_x": {
             "color": "#2a3f5f"
            },
            "error_y": {
             "color": "#2a3f5f"
            },
            "marker": {
             "line": {
              "color": "#E5ECF6",
              "width": 0.5
             },
             "pattern": {
              "fillmode": "overlay",
              "size": 10,
              "solidity": 0.2
             }
            },
            "type": "bar"
           }
          ],
          "barpolar": [
           {
            "marker": {
             "line": {
              "color": "#E5ECF6",
              "width": 0.5
             },
             "pattern": {
              "fillmode": "overlay",
              "size": 10,
              "solidity": 0.2
             }
            },
            "type": "barpolar"
           }
          ],
          "carpet": [
           {
            "aaxis": {
             "endlinecolor": "#2a3f5f",
             "gridcolor": "white",
             "linecolor": "white",
             "minorgridcolor": "white",
             "startlinecolor": "#2a3f5f"
            },
            "baxis": {
             "endlinecolor": "#2a3f5f",
             "gridcolor": "white",
             "linecolor": "white",
             "minorgridcolor": "white",
             "startlinecolor": "#2a3f5f"
            },
            "type": "carpet"
           }
          ],
          "choropleth": [
           {
            "colorbar": {
             "outlinewidth": 0,
             "ticks": ""
            },
            "type": "choropleth"
           }
          ],
          "contour": [
           {
            "colorbar": {
             "outlinewidth": 0,
             "ticks": ""
            },
            "colorscale": [
             [
              0,
              "#0d0887"
             ],
             [
              0.1111111111111111,
              "#46039f"
             ],
             [
              0.2222222222222222,
              "#7201a8"
             ],
             [
              0.3333333333333333,
              "#9c179e"
             ],
             [
              0.4444444444444444,
              "#bd3786"
             ],
             [
              0.5555555555555556,
              "#d8576b"
             ],
             [
              0.6666666666666666,
              "#ed7953"
             ],
             [
              0.7777777777777778,
              "#fb9f3a"
             ],
             [
              0.8888888888888888,
              "#fdca26"
             ],
             [
              1,
              "#f0f921"
             ]
            ],
            "type": "contour"
           }
          ],
          "contourcarpet": [
           {
            "colorbar": {
             "outlinewidth": 0,
             "ticks": ""
            },
            "type": "contourcarpet"
           }
          ],
          "heatmap": [
           {
            "colorbar": {
             "outlinewidth": 0,
             "ticks": ""
            },
            "colorscale": [
             [
              0,
              "#0d0887"
             ],
             [
              0.1111111111111111,
              "#46039f"
             ],
             [
              0.2222222222222222,
              "#7201a8"
             ],
             [
              0.3333333333333333,
              "#9c179e"
             ],
             [
              0.4444444444444444,
              "#bd3786"
             ],
             [
              0.5555555555555556,
              "#d8576b"
             ],
             [
              0.6666666666666666,
              "#ed7953"
             ],
             [
              0.7777777777777778,
              "#fb9f3a"
             ],
             [
              0.8888888888888888,
              "#fdca26"
             ],
             [
              1,
              "#f0f921"
             ]
            ],
            "type": "heatmap"
           }
          ],
          "histogram": [
           {
            "marker": {
             "pattern": {
              "fillmode": "overlay",
              "size": 10,
              "solidity": 0.2
             }
            },
            "type": "histogram"
           }
          ],
          "histogram2d": [
           {
            "colorbar": {
             "outlinewidth": 0,
             "ticks": ""
            },
            "colorscale": [
             [
              0,
              "#0d0887"
             ],
             [
              0.1111111111111111,
              "#46039f"
             ],
             [
              0.2222222222222222,
              "#7201a8"
             ],
             [
              0.3333333333333333,
              "#9c179e"
             ],
             [
              0.4444444444444444,
              "#bd3786"
             ],
             [
              0.5555555555555556,
              "#d8576b"
             ],
             [
              0.6666666666666666,
              "#ed7953"
             ],
             [
              0.7777777777777778,
              "#fb9f3a"
             ],
             [
              0.8888888888888888,
              "#fdca26"
             ],
             [
              1,
              "#f0f921"
             ]
            ],
            "type": "histogram2d"
           }
          ],
          "histogram2dcontour": [
           {
            "colorbar": {
             "outlinewidth": 0,
             "ticks": ""
            },
            "colorscale": [
             [
              0,
              "#0d0887"
             ],
             [
              0.1111111111111111,
              "#46039f"
             ],
             [
              0.2222222222222222,
              "#7201a8"
             ],
             [
              0.3333333333333333,
              "#9c179e"
             ],
             [
              0.4444444444444444,
              "#bd3786"
             ],
             [
              0.5555555555555556,
              "#d8576b"
             ],
             [
              0.6666666666666666,
              "#ed7953"
             ],
             [
              0.7777777777777778,
              "#fb9f3a"
             ],
             [
              0.8888888888888888,
              "#fdca26"
             ],
             [
              1,
              "#f0f921"
             ]
            ],
            "type": "histogram2dcontour"
           }
          ],
          "mesh3d": [
           {
            "colorbar": {
             "outlinewidth": 0,
             "ticks": ""
            },
            "type": "mesh3d"
           }
          ],
          "parcoords": [
           {
            "line": {
             "colorbar": {
              "outlinewidth": 0,
              "ticks": ""
             }
            },
            "type": "parcoords"
           }
          ],
          "pie": [
           {
            "automargin": true,
            "type": "pie"
           }
          ],
          "scatter": [
           {
            "fillpattern": {
             "fillmode": "overlay",
             "size": 10,
             "solidity": 0.2
            },
            "type": "scatter"
           }
          ],
          "scatter3d": [
           {
            "line": {
             "colorbar": {
              "outlinewidth": 0,
              "ticks": ""
             }
            },
            "marker": {
             "colorbar": {
              "outlinewidth": 0,
              "ticks": ""
             }
            },
            "type": "scatter3d"
           }
          ],
          "scattercarpet": [
           {
            "marker": {
             "colorbar": {
              "outlinewidth": 0,
              "ticks": ""
             }
            },
            "type": "scattercarpet"
           }
          ],
          "scattergeo": [
           {
            "marker": {
             "colorbar": {
              "outlinewidth": 0,
              "ticks": ""
             }
            },
            "type": "scattergeo"
           }
          ],
          "scattergl": [
           {
            "marker": {
             "colorbar": {
              "outlinewidth": 0,
              "ticks": ""
             }
            },
            "type": "scattergl"
           }
          ],
          "scattermap": [
           {
            "marker": {
             "colorbar": {
              "outlinewidth": 0,
              "ticks": ""
             }
            },
            "type": "scattermap"
           }
          ],
          "scattermapbox": [
           {
            "marker": {
             "colorbar": {
              "outlinewidth": 0,
              "ticks": ""
             }
            },
            "type": "scattermapbox"
           }
          ],
          "scatterpolar": [
           {
            "marker": {
             "colorbar": {
              "outlinewidth": 0,
              "ticks": ""
             }
            },
            "type": "scatterpolar"
           }
          ],
          "scatterpolargl": [
           {
            "marker": {
             "colorbar": {
              "outlinewidth": 0,
              "ticks": ""
             }
            },
            "type": "scatterpolargl"
           }
          ],
          "scatterternary": [
           {
            "marker": {
             "colorbar": {
              "outlinewidth": 0,
              "ticks": ""
             }
            },
            "type": "scatterternary"
           }
          ],
          "surface": [
           {
            "colorbar": {
             "outlinewidth": 0,
             "ticks": ""
            },
            "colorscale": [
             [
              0,
              "#0d0887"
             ],
             [
              0.1111111111111111,
              "#46039f"
             ],
             [
              0.2222222222222222,
              "#7201a8"
             ],
             [
              0.3333333333333333,
              "#9c179e"
             ],
             [
              0.4444444444444444,
              "#bd3786"
             ],
             [
              0.5555555555555556,
              "#d8576b"
             ],
             [
              0.6666666666666666,
              "#ed7953"
             ],
             [
              0.7777777777777778,
              "#fb9f3a"
             ],
             [
              0.8888888888888888,
              "#fdca26"
             ],
             [
              1,
              "#f0f921"
             ]
            ],
            "type": "surface"
           }
          ],
          "table": [
           {
            "cells": {
             "fill": {
              "color": "#EBF0F8"
             },
             "line": {
              "color": "white"
             }
            },
            "header": {
             "fill": {
              "color": "#C8D4E3"
             },
             "line": {
              "color": "white"
             }
            },
            "type": "table"
           }
          ]
         },
         "layout": {
          "annotationdefaults": {
           "arrowcolor": "#2a3f5f",
           "arrowhead": 0,
           "arrowwidth": 1
          },
          "autotypenumbers": "strict",
          "coloraxis": {
           "colorbar": {
            "outlinewidth": 0,
            "ticks": ""
           }
          },
          "colorscale": {
           "diverging": [
            [
             0,
             "#8e0152"
            ],
            [
             0.1,
             "#c51b7d"
            ],
            [
             0.2,
             "#de77ae"
            ],
            [
             0.3,
             "#f1b6da"
            ],
            [
             0.4,
             "#fde0ef"
            ],
            [
             0.5,
             "#f7f7f7"
            ],
            [
             0.6,
             "#e6f5d0"
            ],
            [
             0.7,
             "#b8e186"
            ],
            [
             0.8,
             "#7fbc41"
            ],
            [
             0.9,
             "#4d9221"
            ],
            [
             1,
             "#276419"
            ]
           ],
           "sequential": [
            [
             0,
             "#0d0887"
            ],
            [
             0.1111111111111111,
             "#46039f"
            ],
            [
             0.2222222222222222,
             "#7201a8"
            ],
            [
             0.3333333333333333,
             "#9c179e"
            ],
            [
             0.4444444444444444,
             "#bd3786"
            ],
            [
             0.5555555555555556,
             "#d8576b"
            ],
            [
             0.6666666666666666,
             "#ed7953"
            ],
            [
             0.7777777777777778,
             "#fb9f3a"
            ],
            [
             0.8888888888888888,
             "#fdca26"
            ],
            [
             1,
             "#f0f921"
            ]
           ],
           "sequentialminus": [
            [
             0,
             "#0d0887"
            ],
            [
             0.1111111111111111,
             "#46039f"
            ],
            [
             0.2222222222222222,
             "#7201a8"
            ],
            [
             0.3333333333333333,
             "#9c179e"
            ],
            [
             0.4444444444444444,
             "#bd3786"
            ],
            [
             0.5555555555555556,
             "#d8576b"
            ],
            [
             0.6666666666666666,
             "#ed7953"
            ],
            [
             0.7777777777777778,
             "#fb9f3a"
            ],
            [
             0.8888888888888888,
             "#fdca26"
            ],
            [
             1,
             "#f0f921"
            ]
           ]
          },
          "colorway": [
           "#636efa",
           "#EF553B",
           "#00cc96",
           "#ab63fa",
           "#FFA15A",
           "#19d3f3",
           "#FF6692",
           "#B6E880",
           "#FF97FF",
           "#FECB52"
          ],
          "font": {
           "color": "#2a3f5f"
          },
          "geo": {
           "bgcolor": "white",
           "lakecolor": "white",
           "landcolor": "#E5ECF6",
           "showlakes": true,
           "showland": true,
           "subunitcolor": "white"
          },
          "hoverlabel": {
           "align": "left"
          },
          "hovermode": "closest",
          "mapbox": {
           "style": "light"
          },
          "paper_bgcolor": "white",
          "plot_bgcolor": "#E5ECF6",
          "polar": {
           "angularaxis": {
            "gridcolor": "white",
            "linecolor": "white",
            "ticks": ""
           },
           "bgcolor": "#E5ECF6",
           "radialaxis": {
            "gridcolor": "white",
            "linecolor": "white",
            "ticks": ""
           }
          },
          "scene": {
           "xaxis": {
            "backgroundcolor": "#E5ECF6",
            "gridcolor": "white",
            "gridwidth": 2,
            "linecolor": "white",
            "showbackground": true,
            "ticks": "",
            "zerolinecolor": "white"
           },
           "yaxis": {
            "backgroundcolor": "#E5ECF6",
            "gridcolor": "white",
            "gridwidth": 2,
            "linecolor": "white",
            "showbackground": true,
            "ticks": "",
            "zerolinecolor": "white"
           },
           "zaxis": {
            "backgroundcolor": "#E5ECF6",
            "gridcolor": "white",
            "gridwidth": 2,
            "linecolor": "white",
            "showbackground": true,
            "ticks": "",
            "zerolinecolor": "white"
           }
          },
          "shapedefaults": {
           "line": {
            "color": "#2a3f5f"
           }
          },
          "ternary": {
           "aaxis": {
            "gridcolor": "white",
            "linecolor": "white",
            "ticks": ""
           },
           "baxis": {
            "gridcolor": "white",
            "linecolor": "white",
            "ticks": ""
           },
           "bgcolor": "#E5ECF6",
           "caxis": {
            "gridcolor": "white",
            "linecolor": "white",
            "ticks": ""
           }
          },
          "title": {
           "x": 0.05
          },
          "xaxis": {
           "automargin": true,
           "gridcolor": "white",
           "linecolor": "white",
           "ticks": "",
           "title": {
            "standoff": 15
           },
           "zerolinecolor": "white",
           "zerolinewidth": 2
          },
          "yaxis": {
           "automargin": true,
           "gridcolor": "white",
           "linecolor": "white",
           "ticks": "",
           "title": {
            "standoff": 15
           },
           "zerolinecolor": "white",
           "zerolinewidth": 2
          }
         }
        },
        "title": {
         "text": "3D Visualization of Sampled Points"
        }
       }
      }
     },
     "metadata": {},
     "output_type": "display_data"
    },
    {
     "data": {
      "text/plain": [
       "(tensor([[[-0.8181, -0.0889, -0.5682],\n",
       "          [ 0.0000,  0.9880, -0.1546],\n",
       "          [ 0.5751, -0.1265, -0.8082]],\n",
       " \n",
       "         [[-0.8119, -0.0991, -0.5753],\n",
       "          [ 0.0000,  0.9855, -0.1697],\n",
       "          [ 0.5838, -0.1378, -0.8001]],\n",
       " \n",
       "         [[-0.8019, -0.0805, -0.5920],\n",
       "          [ 0.0000,  0.9909, -0.1347],\n",
       "          [ 0.5975, -0.1080, -0.7946]],\n",
       " \n",
       "         ...,\n",
       " \n",
       "         [[-0.0136, -0.2997, -0.9539],\n",
       "          [ 0.0000,  0.9540, -0.2997],\n",
       "          [ 0.9999, -0.0041, -0.0129]],\n",
       " \n",
       "         [[-0.9177, -0.0601, -0.3928],\n",
       "          [ 0.0000,  0.9885, -0.1511],\n",
       "          [ 0.3974, -0.1387, -0.9071]],\n",
       " \n",
       "         [[-0.9974, -0.0207, -0.0684],\n",
       "          [ 0.0000,  0.9573, -0.2891],\n",
       "          [ 0.0715, -0.2884, -0.9548]]]),\n",
       " tensor([[ 8.1810e-08,  3.2451e-08,  3.6362e+00],\n",
       "         [ 5.1940e-09, -4.0797e-08,  3.3998e+00],\n",
       "         [-1.5915e-08,  2.1466e-08,  3.7817e+00],\n",
       "         ...,\n",
       "         [-6.3771e-10,  5.5068e-08,  2.5241e+00],\n",
       "         [-2.5872e-09, -4.2385e-09,  2.9140e-01],\n",
       "         [ 3.1813e-09, -1.5447e-09,  3.3439e+00]]))"
      ]
     },
     "execution_count": 6,
     "metadata": {},
     "output_type": "execute_result"
    }
   ],
   "source": [
    "import torch\n",
    "from scipy.stats import qmc\n",
    "from pytorch3d.renderer.cameras import look_at_view_transform\n",
    "\n",
    "DISTANCE_TO_OBJ = 3.0\n",
    "\n",
    "import plotly.graph_objects as go\n",
    "\n",
    "def sample_camera_params_with_visualization(\n",
    "    poisson_r: float, num_samples: int\n",
    "):\n",
    "    engine = qmc.PoissonDisk(d=3, radius=poisson_r, hypersphere=\"surface\", ncandidates=8)\n",
    "    positions = torch.tensor(engine.random(num_samples), dtype=torch.float32)\n",
    "    x, y, z = positions[:, 0], positions[:, 1], positions[:, 2]\n",
    "    \n",
    "    # Create a 3D scatter plot\n",
    "    fig = go.Figure(data=go.Scatter3d(\n",
    "        x=x.numpy(),\n",
    "        y=y.numpy(),\n",
    "        z=z.numpy(),\n",
    "        mode='markers',\n",
    "        marker=dict(\n",
    "            size=5,\n",
    "            color=z.numpy(),  # Color by z-coordinate\n",
    "            colorscale='Viridis',\n",
    "            opacity=0.8\n",
    "        )\n",
    "    ))\n",
    "    fig.update_layout(\n",
    "        scene=dict(\n",
    "            xaxis_title='X',\n",
    "            yaxis_title='Y',\n",
    "            zaxis_title='Z'\n",
    "        ),\n",
    "        title=\"3D Visualization of Sampled Points\"\n",
    "    )\n",
    "    fig.show()\n",
    "    \n",
    "    dist = torch.norm(positions, dim=1) * DISTANCE_TO_OBJ\n",
    "    elev = torch.asin(y / dist) * 180 / torch.pi\n",
    "    azim = torch.atan2(x, z) * 180 / torch.pi\n",
    "    R, T = look_at_view_transform(dist, elev, azim)\n",
    "    return R, T\n",
    "\n",
    "# Example usage\n",
    "poisson_r = 0.1\n",
    "num_samples = 1000\n",
    "sample_camera_params_with_visualization(poisson_r, num_samples)"
   ]
  },
  {
   "cell_type": "code",
   "execution_count": 17,
   "id": "ef789586",
   "metadata": {},
   "outputs": [
    {
     "data": {
      "image/png": "[encoded data removed]",
      "text/plain": [
       "<Figure size 600x600 with 1 Axes>"
      ]
     },
     "metadata": {},
     "output_type": "display_data"
    }
   ],
   "source": [
    "import numpy as np\n",
    "\n",
    "class PoissonDisc(object):\n",
    "    \"\"\"A class for generating two-dimensional Possion (blue) noise).\"\"\"\n",
    "\n",
    "    def __init__(self, rng, width=50, height=50, r=1, k=30):\n",
    "        self.rng = rng\n",
    "        self.width, self.height = width, height\n",
    "        self.r = r\n",
    "        self.k = k\n",
    "\n",
    "        # Cell side length\n",
    "        self.a = r / np.sqrt(2)\n",
    "        # Number of cells in the x- and y-directions of the grid\n",
    "        self.nx, self.ny = int(width / self.a) + 1, int(height / self.a) + 1\n",
    "\n",
    "        self.reset()\n",
    "\n",
    "    def reset(self):\n",
    "        \"\"\"Reset the cells dictionary.\"\"\"\n",
    "\n",
    "        # A list of coordinates in the grid of cells\n",
    "        coords_list = [(ix, iy) for ix in range(self.nx) for iy in range(self.ny)]\n",
    "        # Initilalize the dictionary of cells: each key is a cell's coordinates\n",
    "        # the corresponding value is the index of that cell's point's\n",
    "        # coordinates in the samples list (or None if the cell is empty).\n",
    "        self.cells = {coords: None for coords in coords_list}\n",
    "\n",
    "    def get_cell_coords(self, pt):\n",
    "        \"\"\"Get the coordinates of the cell that pt = (x,y) falls in.\"\"\"\n",
    "\n",
    "        return int(pt[0] // self.a), int(pt[1] // self.a)\n",
    "\n",
    "    def get_neighbours(self, coords):\n",
    "        \"\"\"Return the indexes of points in cells neighbouring cell at coords.\n",
    "        For the cell at coords = (x,y), return the indexes of points in the\n",
    "        cells with neighbouring coordinates illustrated below: ie those cells\n",
    "        that could contain points closer than r.\n",
    "                                     ooo\n",
    "                                    ooooo\n",
    "                                    ooXoo\n",
    "                                    ooooo\n",
    "                                     ooo\n",
    "        \"\"\"\n",
    "\n",
    "        dxdy = [\n",
    "            (-1, -2),\n",
    "            (0, -2),\n",
    "            (1, -2),\n",
    "            (-2, -1),\n",
    "            (-1, -1),\n",
    "            (0, -1),\n",
    "            (1, -1),\n",
    "            (2, -1),\n",
    "            (-2, 0),\n",
    "            (-1, 0),\n",
    "            (1, 0),\n",
    "            (2, 0),\n",
    "            (-2, 1),\n",
    "            (-1, 1),\n",
    "            (0, 1),\n",
    "            (1, 1),\n",
    "            (2, 1),\n",
    "            (-1, 2),\n",
    "            (0, 2),\n",
    "            (1, 2),\n",
    "            (0, 0),\n",
    "        ]\n",
    "        neighbours = []\n",
    "        for dx, dy in dxdy:\n",
    "            neighbour_coords = coords[0] + dx, coords[1] + dy\n",
    "            if not (\n",
    "                0 <= neighbour_coords[0] < self.nx\n",
    "                and 0 <= neighbour_coords[1] < self.ny\n",
    "            ):\n",
    "                # We're off the grid: no neighbours here.\n",
    "                continue\n",
    "            neighbour_cell = self.cells[neighbour_coords]\n",
    "            if neighbour_cell is not None:\n",
    "                # This cell is occupied: store the index of the contained point\n",
    "                neighbours.append(neighbour_cell)\n",
    "        return neighbours\n",
    "\n",
    "    def point_valid(self, pt):\n",
    "        \"\"\"Is pt a valid point to emit as a sample?\n",
    "        It must be no closer than r from any other point: check the cells in\n",
    "        its immediate neighbourhood.\n",
    "        \"\"\"\n",
    "\n",
    "        cell_coords = self.get_cell_coords(pt)\n",
    "        for idx in self.get_neighbours(cell_coords):\n",
    "            nearby_pt = self.samples[idx]\n",
    "            # Squared distance between candidate point, pt, and this nearby_pt.\n",
    "            distance2 = (nearby_pt[0] - pt[0]) ** 2 + (nearby_pt[1] - pt[1]) ** 2\n",
    "            if distance2 < self.r**2:\n",
    "                # The points are too close, so pt is not a candidate.\n",
    "                return False\n",
    "        # All points tested: if we're here, pt is valid\n",
    "        return True\n",
    "\n",
    "    def get_point(self, refpt):\n",
    "        \"\"\"Try to find a candidate point near refpt to emit in the sample.\n",
    "        We draw up to k points from the annulus of inner radius r, outer radius\n",
    "        2r around the reference point, refpt. If none of them are suitable\n",
    "        (because they're too close to existing points in the sample), return\n",
    "        False. Otherwise, return the pt.\n",
    "        \"\"\"\n",
    "\n",
    "        i = 0\n",
    "        while i < self.k:\n",
    "            rho, theta = (\n",
    "                self.rng.uniform(self.r, 2 * self.r),\n",
    "                self.rng.uniform(0, 2 * np.pi),\n",
    "            )\n",
    "            pt = refpt[0] + rho * np.cos(theta), refpt[1] + rho * np.sin(theta)\n",
    "            if not (0 < pt[0] < self.width and 0 < pt[1] < self.height):\n",
    "                # This point falls outside the domain, so try again.\n",
    "                continue\n",
    "            if self.point_valid(pt):\n",
    "                return pt\n",
    "            i += 1\n",
    "        # We failed to find a suitable point in the vicinity of refpt.\n",
    "        return False\n",
    "\n",
    "    def sample(self):\n",
    "        \"\"\"Poisson disc random sampling in 2D.\n",
    "        Draw random samples on the domain width x height such that no two\n",
    "        samples are closer than r apart. The parameter k determines the\n",
    "        maximum number of candidate points to be chosen around each reference\n",
    "        point before removing it from the \"active\" list.\n",
    "        \"\"\"\n",
    "\n",
    "        # Pick a random point to start with.\n",
    "        pt = (self.rng.uniform(0, self.width), self.rng.uniform(0, self.height))\n",
    "        self.samples = [pt]\n",
    "        # Our first sample is indexed at 0 in the samples list...\n",
    "        self.cells[self.get_cell_coords(pt)] = 0\n",
    "        # and it is active, in the sense that we're going to look for more\n",
    "        # points in its neighbourhood.\n",
    "        active = [0]\n",
    "\n",
    "        # As long as there are points in the active list, keep looking for\n",
    "        # samples.\n",
    "        while active:\n",
    "            # choose a random \"reference\" point from the active list.\n",
    "            idx = self.rng.choice(active)\n",
    "            refpt = self.samples[idx]\n",
    "            # Try to pick a new point relative to the reference point.\n",
    "            pt = self.get_point(refpt)\n",
    "            if pt:\n",
    "                # Point pt is valid: add it to samples list and mark as active\n",
    "                self.samples.append(pt)\n",
    "                nsamples = len(self.samples) - 1\n",
    "                active.append(nsamples)\n",
    "                self.cells[self.get_cell_coords(pt)] = nsamples\n",
    "            else:\n",
    "                # We had to give up looking for valid points near refpt, so\n",
    "                # remove it from the list of \"active\" points.\n",
    "                active.remove(idx)\n",
    "\n",
    "        return self.samples\n",
    "    \n",
    "rng = np.random.default_rng(100)\n",
    "pd  = PoissonDisc(rng, width=1.0, height=1.0, r=0.05, k=30)\n",
    "\n",
    "import matplotlib.pyplot as plt\n",
    "\n",
    "# Generate the points\n",
    "pts = pd.sample()\n",
    "\n",
    "# Separate the x and y coordinates\n",
    "x_coords, y_coords = zip(*pts)\n",
    "\n",
    "# Plot the points\n",
    "plt.figure(figsize=(6, 6))\n",
    "plt.scatter(x_coords, y_coords, s=10, color='blue', alpha=0.7)\n",
    "plt.title(\"Poisson Disc Sampling\")\n",
    "plt.xlabel(\"X\")\n",
    "plt.ylabel(\"Y\")\n",
    "plt.axis(\"equal\")\n",
    "plt.show()\n"
   ]
  },
  {
   "cell_type": "code",
   "execution_count": 60,
   "id": "24095c2a",
   "metadata": {},
   "outputs": [
    {
     "data": {
      "application/vnd.plotly.v1+json": {
       "config": {
        "plotlyServerURL": "https://plot.ly"
       },
       "data": [
        {
         "mode": "markers",
         "type": "scatter3d",
         "x": {
          "bdata": "aCsywBg5zT8gfjpAVfckwA==",
          "dtype": "f4"
         },
         "y": {
          "bdata": "uuKHPk/L8z48kg+/4ggavw==",
          "dtype": "f4"
         },
         "z": {
          "bdata": "IwOLv6pkH8AgvOG+6b60vw==",
          "dtype": "f4"
         }
        }
       ],
       "layout": {
        "scene": {
         "aspectmode": "cube",
         "xaxis": {
          "range": [
           -3,
           3
          ]
         },
         "yaxis": {
          "range": [
           -3,
           3
          ]
         },
         "zaxis": {
          "range": [
           -3,
           3
          ]
         }
        },
        "template": {
         "data": {
          "bar": [
           {
            "error_x": {
             "color": "#2a3f5f"
            },
            "error_y": {
             "color": "#2a3f5f"
            },
            "marker": {
             "line": {
              "color": "#E5ECF6",
              "width": 0.5
             },
             "pattern": {
              "fillmode": "overlay",
              "size": 10,
              "solidity": 0.2
             }
            },
            "type": "bar"
           }
          ],
          "barpolar": [
           {
            "marker": {
             "line": {
              "color": "#E5ECF6",
              "width": 0.5
             },
             "pattern": {
              "fillmode": "overlay",
              "size": 10,
              "solidity": 0.2
             }
            },
            "type": "barpolar"
           }
          ],
          "carpet": [
           {
            "aaxis": {
             "endlinecolor": "#2a3f5f",
             "gridcolor": "white",
             "linecolor": "white",
             "minorgridcolor": "white",
             "startlinecolor": "#2a3f5f"
            },
            "baxis": {
             "endlinecolor": "#2a3f5f",
             "gridcolor": "white",
             "linecolor": "white",
             "minorgridcolor": "white",
             "startlinecolor": "#2a3f5f"
            },
            "type": "carpet"
           }
          ],
          "choropleth": [
           {
            "colorbar": {
             "outlinewidth": 0,
             "ticks": ""
            },
            "type": "choropleth"
           }
          ],
          "contour": [
           {
            "colorbar": {
             "outlinewidth": 0,
             "ticks": ""
            },
            "colorscale": [
             [
              0,
              "#0d0887"
             ],
             [
              0.1111111111111111,
              "#46039f"
             ],
             [
              0.2222222222222222,
              "#7201a8"
             ],
             [
              0.3333333333333333,
              "#9c179e"
             ],
             [
              0.4444444444444444,
              "#bd3786"
             ],
             [
              0.5555555555555556,
              "#d8576b"
             ],
             [
              0.6666666666666666,
              "#ed7953"
             ],
             [
              0.7777777777777778,
              "#fb9f3a"
             ],
             [
              0.8888888888888888,
              "#fdca26"
             ],
             [
              1,
              "#f0f921"
             ]
            ],
            "type": "contour"
           }
          ],
          "contourcarpet": [
           {
            "colorbar": {
             "outlinewidth": 0,
             "ticks": ""
            },
            "type": "contourcarpet"
           }
          ],
          "heatmap": [
           {
            "colorbar": {
             "outlinewidth": 0,
             "ticks": ""
            },
            "colorscale": [
             [
              0,
              "#0d0887"
             ],
             [
              0.1111111111111111,
              "#46039f"
             ],
             [
              0.2222222222222222,
              "#7201a8"
             ],
             [
              0.3333333333333333,
              "#9c179e"
             ],
             [
              0.4444444444444444,
              "#bd3786"
             ],
             [
              0.5555555555555556,
              "#d8576b"
             ],
             [
              0.6666666666666666,
              "#ed7953"
             ],
             [
              0.7777777777777778,
              "#fb9f3a"
             ],
             [
              0.8888888888888888,
              "#fdca26"
             ],
             [
              1,
              "#f0f921"
             ]
            ],
            "type": "heatmap"
           }
          ],
          "histogram": [
           {
            "marker": {
             "pattern": {
              "fillmode": "overlay",
              "size": 10,
              "solidity": 0.2
             }
            },
            "type": "histogram"
           }
          ],
          "histogram2d": [
           {
            "colorbar": {
             "outlinewidth": 0,
             "ticks": ""
            },
            "colorscale": [
             [
              0,
              "#0d0887"
             ],
             [
              0.1111111111111111,
              "#46039f"
             ],
             [
              0.2222222222222222,
              "#7201a8"
             ],
             [
              0.3333333333333333,
              "#9c179e"
             ],
             [
              0.4444444444444444,
              "#bd3786"
             ],
             [
              0.5555555555555556,
              "#d8576b"
             ],
             [
              0.6666666666666666,
              "#ed7953"
             ],
             [
              0.7777777777777778,
              "#fb9f3a"
             ],
             [
              0.8888888888888888,
              "#fdca26"
             ],
             [
              1,
              "#f0f921"
             ]
            ],
            "type": "histogram2d"
           }
          ],
          "histogram2dcontour": [
           {
            "colorbar": {
             "outlinewidth": 0,
             "ticks": ""
            },
            "colorscale": [
             [
              0,
              "#0d0887"
             ],
             [
              0.1111111111111111,
              "#46039f"
             ],
             [
              0.2222222222222222,
              "#7201a8"
             ],
             [
              0.3333333333333333,
              "#9c179e"
             ],
             [
              0.4444444444444444,
              "#bd3786"
             ],
             [
              0.5555555555555556,
              "#d8576b"
             ],
             [
              0.6666666666666666,
              "#ed7953"
             ],
             [
              0.7777777777777778,
              "#fb9f3a"
             ],
             [
              0.8888888888888888,
              "#fdca26"
             ],
             [
              1,
              "#f0f921"
             ]
            ],
            "type": "histogram2dcontour"
           }
          ],
          "mesh3d": [
           {
            "colorbar": {
             "outlinewidth": 0,
             "ticks": ""
            },
            "type": "mesh3d"
           }
          ],
          "parcoords": [
           {
            "line": {
             "colorbar": {
              "outlinewidth": 0,
              "ticks": ""
             }
            },
            "type": "parcoords"
           }
          ],
          "pie": [
           {
            "automargin": true,
            "type": "pie"
           }
          ],
          "scatter": [
           {
            "fillpattern": {
             "fillmode": "overlay",
             "size": 10,
             "solidity": 0.2
            },
            "type": "scatter"
           }
          ],
          "scatter3d": [
           {
            "line": {
             "colorbar": {
              "outlinewidth": 0,
              "ticks": ""
             }
            },
            "marker": {
             "colorbar": {
              "outlinewidth": 0,
              "ticks": ""
             }
            },
            "type": "scatter3d"
           }
          ],
          "scattercarpet": [
           {
            "marker": {
             "colorbar": {
              "outlinewidth": 0,
              "ticks": ""
             }
            },
            "type": "scattercarpet"
           }
          ],
          "scattergeo": [
           {
            "marker": {
             "colorbar": {
              "outlinewidth": 0,
              "ticks": ""
             }
            },
            "type": "scattergeo"
           }
          ],
          "scattergl": [
           {
            "marker": {
             "colorbar": {
              "outlinewidth": 0,
              "ticks": ""
             }
            },
            "type": "scattergl"
           }
          ],
          "scattermap": [
           {
            "marker": {
             "colorbar": {
              "outlinewidth": 0,
              "ticks": ""
             }
            },
            "type": "scattermap"
           }
          ],
          "scattermapbox": [
           {
            "marker": {
             "colorbar": {
              "outlinewidth": 0,
              "ticks": ""
             }
            },
            "type": "scattermapbox"
           }
          ],
          "scatterpolar": [
           {
            "marker": {
             "colorbar": {
              "outlinewidth": 0,
              "ticks": ""
             }
            },
            "type": "scatterpolar"
           }
          ],
          "scatterpolargl": [
           {
            "marker": {
             "colorbar": {
              "outlinewidth": 0,
              "ticks": ""
             }
            },
            "type": "scatterpolargl"
           }
          ],
          "scatterternary": [
           {
            "marker": {
             "colorbar": {
              "outlinewidth": 0,
              "ticks": ""
             }
            },
            "type": "scatterternary"
           }
          ],
          "surface": [
           {
            "colorbar": {
             "outlinewidth": 0,
             "ticks": ""
            },
            "colorscale": [
             [
              0,
              "#0d0887"
             ],
             [
              0.1111111111111111,
              "#46039f"
             ],
             [
              0.2222222222222222,
              "#7201a8"
             ],
             [
              0.3333333333333333,
              "#9c179e"
             ],
             [
              0.4444444444444444,
              "#bd3786"
             ],
             [
              0.5555555555555556,
              "#d8576b"
             ],
             [
              0.6666666666666666,
              "#ed7953"
             ],
             [
              0.7777777777777778,
              "#fb9f3a"
             ],
             [
              0.8888888888888888,
              "#fdca26"
             ],
             [
              1,
              "#f0f921"
             ]
            ],
            "type": "surface"
           }
          ],
          "table": [
           {
            "cells": {
             "fill": {
              "color": "#EBF0F8"
             },
             "line": {
              "color": "white"
             }
            },
            "header": {
             "fill": {
              "color": "#C8D4E3"
             },
             "line": {
              "color": "white"
             }
            },
            "type": "table"
           }
          ]
         },
         "layout": {
          "annotationdefaults": {
           "arrowcolor": "#2a3f5f",
           "arrowhead": 0,
           "arrowwidth": 1
          },
          "autotypenumbers": "strict",
          "coloraxis": {
           "colorbar": {
            "outlinewidth": 0,
            "ticks": ""
           }
          },
          "colorscale": {
           "diverging": [
            [
             0,
             "#8e0152"
            ],
            [
             0.1,
             "#c51b7d"
            ],
            [
             0.2,
             "#de77ae"
            ],
            [
             0.3,
             "#f1b6da"
            ],
            [
             0.4,
             "#fde0ef"
            ],
            [
             0.5,
             "#f7f7f7"
            ],
            [
             0.6,
             "#e6f5d0"
            ],
            [
             0.7,
             "#b8e186"
            ],
            [
             0.8,
             "#7fbc41"
            ],
            [
             0.9,
             "#4d9221"
            ],
            [
             1,
             "#276419"
            ]
           ],
           "sequential": [
            [
             0,
             "#0d0887"
            ],
            [
             0.1111111111111111,
             "#46039f"
            ],
            [
             0.2222222222222222,
             "#7201a8"
            ],
            [
             0.3333333333333333,
             "#9c179e"
            ],
            [
             0.4444444444444444,
             "#bd3786"
            ],
            [
             0.5555555555555556,
             "#d8576b"
            ],
            [
             0.6666666666666666,
             "#ed7953"
            ],
            [
             0.7777777777777778,
             "#fb9f3a"
            ],
            [
             0.8888888888888888,
             "#fdca26"
            ],
            [
             1,
             "#f0f921"
            ]
           ],
           "sequentialminus": [
            [
             0,
             "#0d0887"
            ],
            [
             0.1111111111111111,
             "#46039f"
            ],
            [
             0.2222222222222222,
             "#7201a8"
            ],
            [
             0.3333333333333333,
             "#9c179e"
            ],
            [
             0.4444444444444444,
             "#bd3786"
            ],
            [
             0.5555555555555556,
             "#d8576b"
            ],
            [
             0.6666666666666666,
             "#ed7953"
            ],
            [
             0.7777777777777778,
             "#fb9f3a"
            ],
            [
             0.8888888888888888,
             "#fdca26"
            ],
            [
             1,
             "#f0f921"
            ]
           ]
          },
          "colorway": [
           "#636efa",
           "#EF553B",
           "#00cc96",
           "#ab63fa",
           "#FFA15A",
           "#19d3f3",
           "#FF6692",
           "#B6E880",
           "#FF97FF",
           "#FECB52"
          ],
          "font": {
           "color": "#2a3f5f"
          },
          "geo": {
           "bgcolor": "white",
           "lakecolor": "white",
           "landcolor": "#E5ECF6",
           "showlakes": true,
           "showland": true,
           "subunitcolor": "white"
          },
          "hoverlabel": {
           "align": "left"
          },
          "hovermode": "closest",
          "mapbox": {
           "style": "light"
          },
          "paper_bgcolor": "white",
          "plot_bgcolor": "#E5ECF6",
          "polar": {
           "angularaxis": {
            "gridcolor": "white",
            "linecolor": "white",
            "ticks": ""
           },
           "bgcolor": "#E5ECF6",
           "radialaxis": {
            "gridcolor": "white",
            "linecolor": "white",
            "ticks": ""
           }
          },
          "scene": {
           "xaxis": {
            "backgroundcolor": "#E5ECF6",
            "gridcolor": "white",
            "gridwidth": 2,
            "linecolor": "white",
            "showbackground": true,
            "ticks": "",
            "zerolinecolor": "white"
           },
           "yaxis": {
            "backgroundcolor": "#E5ECF6",
            "gridcolor": "white",
            "gridwidth": 2,
            "linecolor": "white",
            "showbackground": true,
            "ticks": "",
            "zerolinecolor": "white"
           },
           "zaxis": {
            "backgroundcolor": "#E5ECF6",
            "gridcolor": "white",
            "gridwidth": 2,
            "linecolor": "white",
            "showbackground": true,
            "ticks": "",
            "zerolinecolor": "white"
           }
          },
          "shapedefaults": {
           "line": {
            "color": "#2a3f5f"
           }
          },
          "ternary": {
           "aaxis": {
            "gridcolor": "white",
            "linecolor": "white",
            "ticks": ""
           },
           "baxis": {
            "gridcolor": "white",
            "linecolor": "white",
            "ticks": ""
           },
           "bgcolor": "#E5ECF6",
           "caxis": {
            "gridcolor": "white",
            "linecolor": "white",
            "ticks": ""
           }
          },
          "title": {
           "x": 0.05
          },
          "xaxis": {
           "automargin": true,
           "gridcolor": "white",
           "linecolor": "white",
           "ticks": "",
           "title": {
            "standoff": 15
           },
           "zerolinecolor": "white",
           "zerolinewidth": 2
          },
          "yaxis": {
           "automargin": true,
           "gridcolor": "white",
           "linecolor": "white",
           "ticks": "",
           "title": {
            "standoff": 15
           },
           "zerolinecolor": "white",
           "zerolinewidth": 2
          }
         }
        }
       }
      }
     },
     "metadata": {},
     "output_type": "display_data"
    },
    {
     "data": {
      "text/plain": [
       "(tensor([[[ 0.3634,  0.0824,  0.9280],\n",
       "          [ 0.0000,  0.9961, -0.0885],\n",
       "          [-0.9316,  0.0322,  0.3620]],\n",
       " \n",
       "         [[ 0.8408, -0.0859, -0.5344],\n",
       "          [-0.0000,  0.9873, -0.1587],\n",
       "          [ 0.5413,  0.1335,  0.8302]],\n",
       " \n",
       "         [[ 0.1496,  0.1848, -0.9713],\n",
       "          [-0.0000,  0.9824,  0.1869],\n",
       "          [ 0.9887, -0.0280,  0.1470]],\n",
       " \n",
       "         [[ 0.4805, -0.1759,  0.8592],\n",
       "          [ 0.0000,  0.9797,  0.2006],\n",
       "          [-0.8770, -0.0964,  0.4707]]]),\n",
       " tensor([[-7.4082e-08, -3.3666e-09,  3.0000e+00],\n",
       "         [-1.0744e-07, -1.1657e-08,  3.0000e+00],\n",
       "         [-1.3759e-08, -1.4871e-08,  3.0000e+00],\n",
       "         [ 1.7110e-08, -4.2987e-08,  3.0000e+00]]))"
      ]
     },
     "execution_count": 60,
     "metadata": {},
     "output_type": "execute_result"
    }
   ],
   "source": [
    "import torch\n",
    "from scipy.stats import qmc\n",
    "from pytorch3d.renderer.cameras import look_at_view_transform\n",
    "\n",
    "DISTANCE_TO_OBJ = 3.0\n",
    "import plotly.graph_objects as go\n",
    "\n",
    "def sample_camera_params(poisson_r: float, n: int, visualize: bool = True):\n",
    "    # 1-D engine kept; just convert to radians before trig\n",
    "    eng = qmc.PoissonDisk(d=2, radius=poisson_r, hypersphere=\"volume\")\n",
    "    uv = torch.tensor(eng.random(n), dtype=torch.float32)           # u,v ∈ (0,1)\n",
    "    azim_deg = (uv[:, 0] - 0.5) * 360          # (-180°,180°)\n",
    "    elev_deg = (uv[:, 1] - 0.5) * 30          # (-10°, 10°)\n",
    "\n",
    "\n",
    "    if visualize:\n",
    "        azim = torch.deg2rad(azim_deg)\n",
    "        elev = torch.deg2rad(elev_deg)\n",
    "        x = DISTANCE_TO_OBJ * torch.cos(elev) * torch.sin(azim)\n",
    "        y = DISTANCE_TO_OBJ * torch.sin(elev)\n",
    "        z = DISTANCE_TO_OBJ * torch.cos(elev) * torch.cos(azim)\n",
    "        fig = go.Figure(go.Scatter3d(x=x, y=y, z=z, mode=\"markers\"))\n",
    "        fig.update_layout(\n",
    "            scene=dict(\n",
    "                aspectmode=\"cube\",\n",
    "                xaxis=dict(range=[-DISTANCE_TO_OBJ, DISTANCE_TO_OBJ]),\n",
    "                yaxis=dict(range=[-DISTANCE_TO_OBJ, DISTANCE_TO_OBJ]),\n",
    "                zaxis=dict(range=[-DISTANCE_TO_OBJ, DISTANCE_TO_OBJ])\n",
    "            )\n",
    "        )\n",
    "        fig.show()\n",
    "        \n",
    "    R, T = look_at_view_transform(DISTANCE_TO_OBJ, elev_deg, azim_deg)\n",
    "    return R, T\n",
    "\n",
    "\n",
    "sample_camera_params(0.5, 4)"
   ]
  },
  {
   "cell_type": "code",
   "execution_count": null,
   "id": "ab7908f7",
   "metadata": {},
   "outputs": [],
   "source": []
  }
 ],
 "metadata": {
  "kernelspec": {
   "display_name": "torch3d",
   "language": "python",
   "name": "python3"
  },
  "language_info": {
   "codemirror_mode": {
    "name": "ipython",
    "version": 3
   },
   "file_extension": ".py",
   "mimetype": "text/x-python",
   "name": "python",
   "nbconvert_exporter": "python",
   "pygments_lexer": "ipython3",
   "version": "3.9.21"
  }
 },
 "nbformat": 4,
 "nbformat_minor": 5
}
